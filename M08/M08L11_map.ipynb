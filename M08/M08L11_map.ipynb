{
 "cells": [
  {
   "cell_type": "markdown",
   "metadata": {},
   "source": [
    "# Jak wykonać dowolną operację na każdej komórce?"
   ]
  },
  {
   "cell_type": "code",
   "execution_count": 1,
   "metadata": {},
   "outputs": [
    {
     "data": {
      "text/html": [
       "<div>\n",
       "<style scoped>\n",
       "    .dataframe tbody tr th:only-of-type {\n",
       "        vertical-align: middle;\n",
       "    }\n",
       "\n",
       "    .dataframe tbody tr th {\n",
       "        vertical-align: top;\n",
       "    }\n",
       "\n",
       "    .dataframe thead th {\n",
       "        text-align: right;\n",
       "    }\n",
       "</style>\n",
       "<table border=\"1\" class=\"dataframe\">\n",
       "  <thead>\n",
       "    <tr style=\"text-align: right;\">\n",
       "      <th></th>\n",
       "      <th>id</th>\n",
       "      <th>sex_age</th>\n",
       "    </tr>\n",
       "  </thead>\n",
       "  <tbody>\n",
       "    <tr>\n",
       "      <th>0</th>\n",
       "      <td>1</td>\n",
       "      <td>M25</td>\n",
       "    </tr>\n",
       "    <tr>\n",
       "      <th>1</th>\n",
       "      <td>2</td>\n",
       "      <td>F48</td>\n",
       "    </tr>\n",
       "    <tr>\n",
       "      <th>2</th>\n",
       "      <td>3</td>\n",
       "      <td>M9</td>\n",
       "    </tr>\n",
       "  </tbody>\n",
       "</table>\n",
       "</div>"
      ],
      "text/plain": [
       "   id sex_age\n",
       "0   1     M25\n",
       "1   2     F48\n",
       "2   3      M9"
      ]
     },
     "execution_count": 1,
     "metadata": {},
     "output_type": "execute_result"
    }
   ],
   "source": [
    "import pandas as pd\n",
    "\n",
    "# Czasami zdarza się, że w jednej kolumnie mamy dane, które wymagają nietypowego procesowania, np. rozważmy poniższą kolumnę:\n",
    "\n",
    "df = pd.DataFrame({\n",
    "    'id': [1, 2, 3],\n",
    "    'sex_age': ['M25', 'F48', 'M9'],\n",
    "})  # ✅ w ten sposób możesz ręcznie stworzyć DataFrame\n",
    "\n",
    "df"
   ]
  },
  {
   "cell_type": "code",
   "execution_count": 2,
   "metadata": {},
   "outputs": [
    {
     "data": {
      "text/plain": [
       "0    M25\n",
       "1    F48\n",
       "2     M9\n",
       "Name: sex_age, dtype: object"
      ]
     },
     "execution_count": 2,
     "metadata": {},
     "output_type": "execute_result"
    }
   ],
   "source": [
    "# Zazwyczaj takie dane trzeba najpierw wyczyścić, tzn. rodzielić kolumnę sex_age na dwie osobne kolumny.\n",
    "# W tym celu wyciągamy interesującą nas kolumnę:\n",
    "\n",
    "df['sex_age']"
   ]
  },
  {
   "cell_type": "code",
   "execution_count": 3,
   "metadata": {},
   "outputs": [
    {
     "data": {
      "text/plain": [
       "0    M\n",
       "1    F\n",
       "2    M\n",
       "Name: sex_age, dtype: object"
      ]
     },
     "execution_count": 3,
     "metadata": {},
     "output_type": "execute_result"
    }
   ],
   "source": [
    "# i wywołujemy metodę .map() przekazując jaka funkcja ma być wywołana na każdym elemencie:\n",
    "\n",
    "def get_sex(sex_age: str) -> str:  # tutaj otrzymujemy pojedycznego stringa, nie całą kolumnę!\n",
    "    return sex_age[0]\n",
    "\n",
    "df['sex_age'].map(get_sex)"
   ]
  },
  {
   "cell_type": "code",
   "execution_count": 4,
   "metadata": {},
   "outputs": [
    {
     "data": {
      "text/html": [
       "<div>\n",
       "<style scoped>\n",
       "    .dataframe tbody tr th:only-of-type {\n",
       "        vertical-align: middle;\n",
       "    }\n",
       "\n",
       "    .dataframe tbody tr th {\n",
       "        vertical-align: top;\n",
       "    }\n",
       "\n",
       "    .dataframe thead th {\n",
       "        text-align: right;\n",
       "    }\n",
       "</style>\n",
       "<table border=\"1\" class=\"dataframe\">\n",
       "  <thead>\n",
       "    <tr style=\"text-align: right;\">\n",
       "      <th></th>\n",
       "      <th>id</th>\n",
       "      <th>sex_age</th>\n",
       "      <th>sex</th>\n",
       "      <th>age</th>\n",
       "    </tr>\n",
       "  </thead>\n",
       "  <tbody>\n",
       "    <tr>\n",
       "      <th>0</th>\n",
       "      <td>1</td>\n",
       "      <td>M25</td>\n",
       "      <td>M</td>\n",
       "      <td>25</td>\n",
       "    </tr>\n",
       "    <tr>\n",
       "      <th>1</th>\n",
       "      <td>2</td>\n",
       "      <td>F48</td>\n",
       "      <td>F</td>\n",
       "      <td>48</td>\n",
       "    </tr>\n",
       "    <tr>\n",
       "      <th>2</th>\n",
       "      <td>3</td>\n",
       "      <td>M9</td>\n",
       "      <td>M</td>\n",
       "      <td>9</td>\n",
       "    </tr>\n",
       "  </tbody>\n",
       "</table>\n",
       "</div>"
      ],
      "text/plain": [
       "   id sex_age sex  age\n",
       "0   1     M25   M   25\n",
       "1   2     F48   F   48\n",
       "2   3      M9   M    9"
      ]
     },
     "execution_count": 4,
     "metadata": {},
     "output_type": "execute_result"
    }
   ],
   "source": [
    "# Rezultat doklejamy do DataFrame przy pomocy znanej Ci już metody .assign():\n",
    "\n",
    "def get_sex(sex_age: str) -> str:\n",
    "    return sex_age[0]\n",
    "\n",
    "def get_age(sex_age: str) -> int:\n",
    "    return int(sex_age[1:])\n",
    "\n",
    "new_df = df.assign(\n",
    "    sex=lambda x: x['sex_age'].map(get_sex),\n",
    "    age=lambda x: x['sex_age'].map(get_age),\n",
    ")\n",
    "new_df"
   ]
  },
  {
   "cell_type": "code",
   "execution_count": 5,
   "metadata": {},
   "outputs": [
    {
     "name": "stdout",
     "output_type": "stream",
     "text": [
      "<class 'pandas.core.frame.DataFrame'>\n",
      "RangeIndex: 3 entries, 0 to 2\n",
      "Data columns (total 4 columns):\n",
      " #   Column   Non-Null Count  Dtype \n",
      "---  ------   --------------  ----- \n",
      " 0   id       3 non-null      int64 \n",
      " 1   sex_age  3 non-null      object\n",
      " 2   sex      3 non-null      object\n",
      " 3   age      3 non-null      int64 \n",
      "dtypes: int64(2), object(2)\n",
      "memory usage: 224.0+ bytes\n"
     ]
    }
   ],
   "source": [
    "new_df.info()"
   ]
  },
  {
   "cell_type": "code",
   "execution_count": 6,
   "metadata": {},
   "outputs": [
    {
     "data": {
      "text/html": [
       "<div>\n",
       "<style scoped>\n",
       "    .dataframe tbody tr th:only-of-type {\n",
       "        vertical-align: middle;\n",
       "    }\n",
       "\n",
       "    .dataframe tbody tr th {\n",
       "        vertical-align: top;\n",
       "    }\n",
       "\n",
       "    .dataframe thead th {\n",
       "        text-align: right;\n",
       "    }\n",
       "</style>\n",
       "<table border=\"1\" class=\"dataframe\">\n",
       "  <thead>\n",
       "    <tr style=\"text-align: right;\">\n",
       "      <th></th>\n",
       "      <th>id</th>\n",
       "      <th>sex_age</th>\n",
       "      <th>sex</th>\n",
       "      <th>age</th>\n",
       "    </tr>\n",
       "  </thead>\n",
       "  <tbody>\n",
       "    <tr>\n",
       "      <th>0</th>\n",
       "      <td>1</td>\n",
       "      <td>M25</td>\n",
       "      <td>M</td>\n",
       "      <td>25</td>\n",
       "    </tr>\n",
       "    <tr>\n",
       "      <th>1</th>\n",
       "      <td>2</td>\n",
       "      <td>F48</td>\n",
       "      <td>F</td>\n",
       "      <td>48</td>\n",
       "    </tr>\n",
       "    <tr>\n",
       "      <th>2</th>\n",
       "      <td>3</td>\n",
       "      <td>M9</td>\n",
       "      <td>M</td>\n",
       "      <td>9</td>\n",
       "    </tr>\n",
       "  </tbody>\n",
       "</table>\n",
       "</div>"
      ],
      "text/plain": [
       "   id sex_age sex  age\n",
       "0   1     M25   M   25\n",
       "1   2     F48   F   48\n",
       "2   3      M9   M    9"
      ]
     },
     "execution_count": 6,
     "metadata": {},
     "output_type": "execute_result"
    }
   ],
   "source": [
    "# Jeśli się uprzesz, to możesz nawet zrobić to zagnieżdżonymi lambdami, ale nie polecam tego rozwiązania, bo robi się ono skomplikowane:\n",
    "\n",
    "new_df = df.assign(\n",
    "    sex=lambda x: x['sex_age'].map(lambda sex_age: sex_age[0]),\n",
    "    age=lambda x: x['sex_age'].map(lambda sex_age: int(sex_age[1:])),\n",
    ")\n",
    "new_df"
   ]
  },
  {
   "cell_type": "markdown",
   "metadata": {},
   "source": [
    "# 🔴 Ćwiczenie\n",
    "\n",
    "W poprzednim ćwiczeniu usunęliśmy separator tysięcy `,` przy pomocy argumentu `thousands` funkcji `pd.read_csv`. Jak zrobisz to bez pomocy tego argumentu, używając metody map?"
   ]
  },
  {
   "cell_type": "code",
   "execution_count": 4,
   "metadata": {},
   "outputs": [
    {
     "data": {
      "image/png": "[encoded data removed]",
      "text/plain": [
       "<Figure size 1500x500 with 1 Axes>"
      ]
     },
     "metadata": {},
     "output_type": "display_data"
    }
   ],
   "source": [
    "import pandas as pd\n",
    "import matplotlib.pyplot\n",
    "\n",
    "def remove_thousands_separator(data):\n",
    "    return float(data.replace(',', ''))\n",
    "\n",
    "macro = pd.read_csv (\n",
    "        'data\\macroeconomicsPL.csv',\n",
    "        parse_dates=['DATE'],\n",
    "        index_col='DATE',\n",
    "        dayfirst=True,\n",
    "        skipfooter=3,\n",
    "        engine=\"python\",\n",
    "        na_values={\n",
    "            'SPD': '-99'\n",
    "        },\n",
    ").rename(columns={\n",
    "    'sr_NBP': 'SR',\n",
    "    'WIBOR 3M': 'WIBOR'\n",
    "}).assign(\n",
    "    DIFF=lambda x: x['CPI'] - x['SR'],\n",
    "    RB=lambda x: x['RB'].map(remove_thousands_separator),\n",
    ")\n",
    "macro['2014':'2018 6'].plot(\n",
    "    y=['SR', 'CPI', 'DIFF'],\n",
    "    figsize=(15,5),\n",
    "    grid=True\n",
    ");"
   ]
  },
  {
   "cell_type": "code",
   "execution_count": null,
   "metadata": {},
   "outputs": [],
   "source": []
  }
 ],
 "metadata": {
  "kernelspec": {
   "display_name": "Python 3 (ipykernel)",
   "language": "python",
   "name": "python3"
  },
  "language_info": {
   "codemirror_mode": {
    "name": "ipython",
    "version": 3
   },
   "file_extension": ".py",
   "mimetype": "text/x-python",
   "name": "python",
   "nbconvert_exporter": "python",
   "pygments_lexer": "ipython3",
   "version": "3.10.4"
  },
  "toc": {
   "nav_menu": {},
   "number_sections": false,
   "sideBar": true,
   "skip_h1_title": false,
   "title_cell": "Table of Contents",
   "title_sidebar": "Contents",
   "toc_cell": false,
   "toc_position": {
    "height": "calc(100% - 180px)",
    "left": "10px",
    "top": "150px",
    "width": "219.42857360839844px"
   },
   "toc_section_display": true,
   "toc_window_display": false
  }
 },
 "nbformat": 4,
 "nbformat_minor": 4
}
